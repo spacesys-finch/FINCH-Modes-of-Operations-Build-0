{
 "cells": [
  {
   "cell_type": "markdown",
   "id": "4c692161",
   "metadata": {},
   "source": [
    "# MOO_FSM"
   ]
  },
  {
   "cell_type": "markdown",
   "id": "6eef4a33",
   "metadata": {},
   "source": [
    "## Setup"
   ]
  },
  {
   "cell_type": "code",
   "execution_count": 1,
   "id": "d879a99d",
   "metadata": {},
   "outputs": [],
   "source": [
    "from enum import Enum"
   ]
  },
  {
   "cell_type": "markdown",
   "id": "d44c8e90",
   "metadata": {},
   "source": [
    "## Class Creation"
   ]
  },
  {
   "cell_type": "code",
   "execution_count": 7,
   "id": "efcf825d",
   "metadata": {},
   "outputs": [],
   "source": [
    "class Mode(Enum):\n",
    "    \n",
    "    LEOP = 0\n",
    "    IDLE = 1\n",
    "    IMAGING = 2\n",
    "    PROCESSING = 3\n",
    "    DOWNLINK = 4"
   ]
  },
  {
   "cell_type": "code",
   "execution_count": 3,
   "id": "faf87a6c",
   "metadata": {},
   "outputs": [],
   "source": [
    "class SpacecraftState:\n",
    "    def __init__(self):\n",
    "        self.battery_level = 0.8\n",
    "        self.location = True\n",
    "        self.sunlight = 0.5\n",
    "        self.reaction_wheel_saturation = 0.0\n",
    "        self.angular_rate = 0.0\n",
    "        self.next_imaging = 20000.0\n",
    "        self.next_comm = 20000.0\n",
    "        self.data_processed = True\n",
    "        self.detumbled = True\n",
    "        "
   ]
  },
  {
   "cell_type": "code",
   "execution_count": 16,
   "id": "18d0381b",
   "metadata": {},
   "outputs": [],
   "source": [
    "class FINCH:\n",
    "    \n",
    "    def __init__(self):\n",
    "        self.state = SpacecraftState()\n",
    "        self.mode = Mode.LEOP\n",
    "        \n",
    "    def refresh_mode(self):\n",
    "        \n",
    "        if change_mode(self):\n",
    "            pass\n",
    "        else:\n",
    "            mode_work(self)\n",
    "            \n",
    "    def mode_work(self):\n",
    "        \n",
    "        if self.mode == Mode.IDLE:\n",
    "                \n",
    "            if (self.reaction_wheel_saturation != 0.0 and battery_level > 60) or (self.reaction_wheel_saturation < 0.5 and self.sunlight > 0.0):\n",
    "                print(\"Desaturating reaction wheels\")\n",
    "            else:\n",
    "                print(\"Pointing in the direction of the sun\")\n",
    "                    \n",
    "        elif self.mode == Mode.PROCESSING:\n",
    "                print(\"Processing\")\n",
    "            \n",
    "        elif self.mode == Mode.IMAGING:\n",
    "                print(\"Imaging\")\n",
    "            \n",
    "        elif self.mode == Mode.DOWNLINK:\n",
    "                print(\"Downlinking\")\n",
    "                \n",
    "    def change_mode(self):\n",
    "        \n",
    "        if self.mode == Mode.LEOP: \n",
    "            if self.detumbled and self.angular_rate == 0.0:\n",
    "                self.mode = Mode.IDLE\n",
    "                print_mode(self)\n",
    "                return True\n",
    "            \n",
    "        elif self.mode == Mode.IDLE:\n",
    "            if self.angular_rate == 0.0 and self.next_imaging < 1000 and self.battery_level > 0.75 and self.reaction_wheel_saturation == 0.0:\n",
    "                self.mode = Mode.IMAGING\n",
    "                print_mode(self)\n",
    "                return True\n",
    "            elif self.data_processed == True and self.next_comm < 1000 and self.battery_level > 0.7:\n",
    "                self.mode = Mode.DOWNLINK\n",
    "                print_mode(self)\n",
    "                return True\n",
    "            elif self.data_processed == False and self.next_comm > 1000 and self.next_imaging > 1000 and self.battery_level > 0.6:\n",
    "                self.mode = Mode.PROCESSING\n",
    "                print_mode(self)\n",
    "                return True\n",
    "            \n",
    "        return False\n",
    "    \n",
    "    def print_mode(self):\n",
    "        \n",
    "        print(\"Current Mode is \" + str(self.mode))\n",
    "                \n",
    "        "
   ]
  },
  {
   "cell_type": "code",
   "execution_count": 5,
   "id": "b1d78987",
   "metadata": {},
   "outputs": [
    {
     "ename": "NameError",
     "evalue": "name 'FINCH' is not defined",
     "output_type": "error",
     "traceback": [
      "\u001b[0;31m---------------------------------------------------------------------------\u001b[0m",
      "\u001b[0;31mNameError\u001b[0m                                 Traceback (most recent call last)",
      "\u001b[0;32m<ipython-input-5-5011a1a3e300>\u001b[0m in \u001b[0;36m<module>\u001b[0;34m\u001b[0m\n\u001b[0;32m----> 1\u001b[0;31m \u001b[0mMingde\u001b[0m \u001b[0;34m=\u001b[0m \u001b[0mFINCH\u001b[0m\u001b[0;34m(\u001b[0m\u001b[0;34m)\u001b[0m\u001b[0;34m\u001b[0m\u001b[0;34m\u001b[0m\u001b[0m\n\u001b[0m\u001b[1;32m      2\u001b[0m \u001b[0mprint\u001b[0m\u001b[0;34m(\u001b[0m\u001b[0mMingde\u001b[0m\u001b[0;34m.\u001b[0m\u001b[0mmode\u001b[0m\u001b[0;34m)\u001b[0m\u001b[0;34m\u001b[0m\u001b[0;34m\u001b[0m\u001b[0m\n\u001b[1;32m      3\u001b[0m \u001b[0mMingde\u001b[0m\u001b[0;34m.\u001b[0m\u001b[0mchange_mode\u001b[0m\u001b[0;34m(\u001b[0m\u001b[0;34m)\u001b[0m\u001b[0;34m\u001b[0m\u001b[0;34m\u001b[0m\u001b[0m\n\u001b[1;32m      4\u001b[0m \u001b[0mprint\u001b[0m\u001b[0;34m(\u001b[0m\u001b[0mMingde\u001b[0m\u001b[0;34m.\u001b[0m\u001b[0mmode\u001b[0m\u001b[0;34m)\u001b[0m\u001b[0;34m\u001b[0m\u001b[0;34m\u001b[0m\u001b[0m\n\u001b[1;32m      5\u001b[0m \u001b[0mMingde\u001b[0m\u001b[0;34m.\u001b[0m\u001b[0mstate\u001b[0m\u001b[0;34m.\u001b[0m\u001b[0mbattery_level\u001b[0m \u001b[0;34m=\u001b[0m \u001b[0;36m0.4\u001b[0m\u001b[0;34m\u001b[0m\u001b[0;34m\u001b[0m\u001b[0m\n",
      "\u001b[0;31mNameError\u001b[0m: name 'FINCH' is not defined"
     ]
    }
   ],
   "source": [
    "Mingde = FINCH()\n",
    "print(Mingde.mode)\n",
    "Mingde.refresh_mode()\n",
    "print(Mingde.mode)\n",
    "Mingde.state.battery_level = 0.4\n",
    "Mingde.refresh_mode()\n",
    "print(Mingde.mode)"
   ]
  }
 ],
 "metadata": {
  "kernelspec": {
   "display_name": "Python 3",
   "language": "python",
   "name": "python3"
  },
  "language_info": {
   "codemirror_mode": {
    "name": "ipython",
    "version": 3
   },
   "file_extension": ".py",
   "mimetype": "text/x-python",
   "name": "python",
   "nbconvert_exporter": "python",
   "pygments_lexer": "ipython3",
   "version": "3.8.8"
  }
 },
 "nbformat": 4,
 "nbformat_minor": 5
}
